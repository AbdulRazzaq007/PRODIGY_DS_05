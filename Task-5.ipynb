{
 "cells": [
  {
   "cell_type": "code",
   "execution_count": 1,
   "id": "98c306e3",
   "metadata": {},
   "outputs": [
    {
     "name": "stdout",
     "output_type": "stream",
     "text": [
      "Requirement already satisfied: kaggle in c:\\users\\ar087\\anaconda3\\lib\\site-packages (1.6.14)\n",
      "Requirement already satisfied: six>=1.10 in c:\\users\\ar087\\anaconda3\\lib\\site-packages (from kaggle) (1.16.0)\n",
      "Requirement already satisfied: certifi>=2023.7.22 in c:\\users\\ar087\\anaconda3\\lib\\site-packages (from kaggle) (2023.7.22)\n",
      "Requirement already satisfied: python-dateutil in c:\\users\\ar087\\anaconda3\\lib\\site-packages (from kaggle) (2.8.2)\n",
      "Requirement already satisfied: requests in c:\\users\\ar087\\anaconda3\\lib\\site-packages (from kaggle) (2.31.0)\n",
      "Requirement already satisfied: tqdm in c:\\users\\ar087\\anaconda3\\lib\\site-packages (from kaggle) (4.65.0)\n",
      "Requirement already satisfied: python-slugify in c:\\users\\ar087\\anaconda3\\lib\\site-packages (from kaggle) (5.0.2)\n",
      "Requirement already satisfied: urllib3 in c:\\users\\ar087\\anaconda3\\lib\\site-packages (from kaggle) (1.26.16)\n",
      "Requirement already satisfied: bleach in c:\\users\\ar087\\anaconda3\\lib\\site-packages (from kaggle) (4.1.0)\n",
      "Requirement already satisfied: packaging in c:\\users\\ar087\\anaconda3\\lib\\site-packages (from bleach->kaggle) (23.1)\n",
      "Requirement already satisfied: webencodings in c:\\users\\ar087\\anaconda3\\lib\\site-packages (from bleach->kaggle) (0.5.1)\n",
      "Requirement already satisfied: text-unidecode>=1.3 in c:\\users\\ar087\\anaconda3\\lib\\site-packages (from python-slugify->kaggle) (1.3)\n",
      "Requirement already satisfied: charset-normalizer<4,>=2 in c:\\users\\ar087\\anaconda3\\lib\\site-packages (from requests->kaggle) (2.0.4)\n",
      "Requirement already satisfied: idna<4,>=2.5 in c:\\users\\ar087\\anaconda3\\lib\\site-packages (from requests->kaggle) (3.4)\n",
      "Requirement already satisfied: colorama in c:\\users\\ar087\\anaconda3\\lib\\site-packages (from tqdm->kaggle) (0.4.6)\n",
      "Note: you may need to restart the kernel to use updated packages.\n"
     ]
    }
   ],
   "source": [
    "pip install kaggle\n"
   ]
  },
  {
   "cell_type": "code",
   "execution_count": 2,
   "id": "ba2c182b",
   "metadata": {},
   "outputs": [
    {
     "name": "stdout",
     "output_type": "stream",
     "text": [
      "Requirement already satisfied: opendatasets in c:\\users\\ar087\\anaconda3\\lib\\site-packages (0.1.22)\n",
      "Requirement already satisfied: tqdm in c:\\users\\ar087\\anaconda3\\lib\\site-packages (from opendatasets) (4.65.0)\n",
      "Requirement already satisfied: kaggle in c:\\users\\ar087\\anaconda3\\lib\\site-packages (from opendatasets) (1.6.14)\n",
      "Requirement already satisfied: click in c:\\users\\ar087\\anaconda3\\lib\\site-packages (from opendatasets) (8.0.4)\n",
      "Requirement already satisfied: colorama in c:\\users\\ar087\\anaconda3\\lib\\site-packages (from click->opendatasets) (0.4.6)\n",
      "Requirement already satisfied: six>=1.10 in c:\\users\\ar087\\anaconda3\\lib\\site-packages (from kaggle->opendatasets) (1.16.0)\n",
      "Requirement already satisfied: certifi>=2023.7.22 in c:\\users\\ar087\\anaconda3\\lib\\site-packages (from kaggle->opendatasets) (2023.7.22)\n",
      "Requirement already satisfied: python-dateutil in c:\\users\\ar087\\anaconda3\\lib\\site-packages (from kaggle->opendatasets) (2.8.2)\n",
      "Requirement already satisfied: requests in c:\\users\\ar087\\anaconda3\\lib\\site-packages (from kaggle->opendatasets) (2.31.0)\n",
      "Requirement already satisfied: python-slugify in c:\\users\\ar087\\anaconda3\\lib\\site-packages (from kaggle->opendatasets) (5.0.2)\n",
      "Requirement already satisfied: urllib3 in c:\\users\\ar087\\anaconda3\\lib\\site-packages (from kaggle->opendatasets) (1.26.16)\n",
      "Requirement already satisfied: bleach in c:\\users\\ar087\\anaconda3\\lib\\site-packages (from kaggle->opendatasets) (4.1.0)\n",
      "Requirement already satisfied: packaging in c:\\users\\ar087\\anaconda3\\lib\\site-packages (from bleach->kaggle->opendatasets) (23.1)\n",
      "Requirement already satisfied: webencodings in c:\\users\\ar087\\anaconda3\\lib\\site-packages (from bleach->kaggle->opendatasets) (0.5.1)\n",
      "Requirement already satisfied: text-unidecode>=1.3 in c:\\users\\ar087\\anaconda3\\lib\\site-packages (from python-slugify->kaggle->opendatasets) (1.3)\n",
      "Requirement already satisfied: charset-normalizer<4,>=2 in c:\\users\\ar087\\anaconda3\\lib\\site-packages (from requests->kaggle->opendatasets) (2.0.4)\n",
      "Requirement already satisfied: idna<4,>=2.5 in c:\\users\\ar087\\anaconda3\\lib\\site-packages (from requests->kaggle->opendatasets) (3.4)\n"
     ]
    }
   ],
   "source": [
    "!pip install opendatasets"
   ]
  },
  {
   "cell_type": "code",
   "execution_count": 3,
   "id": "c35bd8a1",
   "metadata": {},
   "outputs": [
    {
     "name": "stdout",
     "output_type": "stream",
     "text": [
      "Skipping, found downloaded files in \".\\us-accidents\" (use force=True to force download)\n"
     ]
    }
   ],
   "source": [
    "import opendatasets as od\n",
    "import pandas\n",
    "\n",
    "od.download(\n",
    "\t\"https://www.kaggle.com/sobhanmoosavi/us-accidents\")"
   ]
  },
  {
   "cell_type": "code",
   "execution_count": 4,
   "id": "aec84fab",
   "metadata": {},
   "outputs": [],
   "source": [
    "import numpy as np \n",
    "import pandas as pd "
   ]
  },
  {
   "cell_type": "code",
   "execution_count": 5,
   "id": "08ee92ad",
   "metadata": {},
   "outputs": [],
   "source": [
    "import os\n",
    "for dirname, _, filenames in os.walk('/kaggle/input'):\n",
    "    for filename in filenames:\n",
    "        print(os.path.join(dirname, filename))"
   ]
  },
  {
   "cell_type": "code",
   "execution_count": 6,
   "id": "4ed996ea",
   "metadata": {},
   "outputs": [
    {
     "name": "stdout",
     "output_type": "stream",
     "text": [
      "Requirement already satisfied: missingno in c:\\users\\ar087\\anaconda3\\lib\\site-packages (0.5.2)\n",
      "Requirement already satisfied: numpy in c:\\users\\ar087\\anaconda3\\lib\\site-packages (from missingno) (1.24.3)\n",
      "Requirement already satisfied: matplotlib in c:\\users\\ar087\\anaconda3\\lib\\site-packages (from missingno) (3.7.2)\n",
      "Requirement already satisfied: scipy in c:\\users\\ar087\\anaconda3\\lib\\site-packages (from missingno) (1.11.1)\n",
      "Requirement already satisfied: seaborn in c:\\users\\ar087\\anaconda3\\lib\\site-packages (from missingno) (0.12.2)\n",
      "Requirement already satisfied: contourpy>=1.0.1 in c:\\users\\ar087\\anaconda3\\lib\\site-packages (from matplotlib->missingno) (1.0.5)\n",
      "Requirement already satisfied: cycler>=0.10 in c:\\users\\ar087\\anaconda3\\lib\\site-packages (from matplotlib->missingno) (0.11.0)\n",
      "Requirement already satisfied: fonttools>=4.22.0 in c:\\users\\ar087\\anaconda3\\lib\\site-packages (from matplotlib->missingno) (4.25.0)\n",
      "Requirement already satisfied: kiwisolver>=1.0.1 in c:\\users\\ar087\\anaconda3\\lib\\site-packages (from matplotlib->missingno) (1.4.4)\n",
      "Requirement already satisfied: packaging>=20.0 in c:\\users\\ar087\\anaconda3\\lib\\site-packages (from matplotlib->missingno) (23.1)\n",
      "Requirement already satisfied: pillow>=6.2.0 in c:\\users\\ar087\\anaconda3\\lib\\site-packages (from matplotlib->missingno) (9.4.0)\n",
      "Requirement already satisfied: pyparsing<3.1,>=2.3.1 in c:\\users\\ar087\\anaconda3\\lib\\site-packages (from matplotlib->missingno) (3.0.9)\n",
      "Requirement already satisfied: python-dateutil>=2.7 in c:\\users\\ar087\\anaconda3\\lib\\site-packages (from matplotlib->missingno) (2.8.2)\n",
      "Requirement already satisfied: pandas>=0.25 in c:\\users\\ar087\\anaconda3\\lib\\site-packages (from seaborn->missingno) (2.0.3)\n",
      "Requirement already satisfied: pytz>=2020.1 in c:\\users\\ar087\\anaconda3\\lib\\site-packages (from pandas>=0.25->seaborn->missingno) (2023.3.post1)\n",
      "Requirement already satisfied: tzdata>=2022.1 in c:\\users\\ar087\\anaconda3\\lib\\site-packages (from pandas>=0.25->seaborn->missingno) (2023.3)\n",
      "Requirement already satisfied: six>=1.5 in c:\\users\\ar087\\anaconda3\\lib\\site-packages (from python-dateutil>=2.7->matplotlib->missingno) (1.16.0)\n"
     ]
    }
   ],
   "source": [
    "!pip install missingno\n"
   ]
  },
  {
   "cell_type": "code",
   "execution_count": 7,
   "id": "0f303b39",
   "metadata": {},
   "outputs": [],
   "source": [
    "import pandas as pd\n",
    "import numpy as np\n",
    "import matplotlib.pyplot as plt\n",
    "import seaborn as sns\n",
    "import missingno as mn\n",
    "import plotly.graph_objects as go"
   ]
  },
  {
   "cell_type": "code",
   "execution_count": 8,
   "id": "10468835",
   "metadata": {},
   "outputs": [
    {
     "name": "stdout",
     "output_type": "stream",
     "text": [
      "Requirement already satisfied: geopandas in c:\\users\\ar087\\anaconda3\\lib\\site-packages (0.14.4)\n",
      "Requirement already satisfied: fiona>=1.8.21 in c:\\users\\ar087\\anaconda3\\lib\\site-packages (from geopandas) (1.9.6)\n",
      "Requirement already satisfied: numpy>=1.22 in c:\\users\\ar087\\anaconda3\\lib\\site-packages (from geopandas) (1.24.3)\n",
      "Requirement already satisfied: packaging in c:\\users\\ar087\\anaconda3\\lib\\site-packages (from geopandas) (23.1)\n",
      "Requirement already satisfied: pandas>=1.4.0 in c:\\users\\ar087\\anaconda3\\lib\\site-packages (from geopandas) (2.0.3)\n",
      "Requirement already satisfied: pyproj>=3.3.0 in c:\\users\\ar087\\anaconda3\\lib\\site-packages (from geopandas) (3.6.1)\n",
      "Requirement already satisfied: shapely>=1.8.0 in c:\\users\\ar087\\anaconda3\\lib\\site-packages (from geopandas) (2.0.4)\n",
      "Requirement already satisfied: attrs>=19.2.0 in c:\\users\\ar087\\anaconda3\\lib\\site-packages (from fiona>=1.8.21->geopandas) (22.1.0)\n",
      "Requirement already satisfied: certifi in c:\\users\\ar087\\anaconda3\\lib\\site-packages (from fiona>=1.8.21->geopandas) (2023.7.22)\n",
      "Requirement already satisfied: click~=8.0 in c:\\users\\ar087\\anaconda3\\lib\\site-packages (from fiona>=1.8.21->geopandas) (8.0.4)\n",
      "Requirement already satisfied: click-plugins>=1.0 in c:\\users\\ar087\\anaconda3\\lib\\site-packages (from fiona>=1.8.21->geopandas) (1.1.1)\n",
      "Requirement already satisfied: cligj>=0.5 in c:\\users\\ar087\\anaconda3\\lib\\site-packages (from fiona>=1.8.21->geopandas) (0.7.2)\n",
      "Requirement already satisfied: six in c:\\users\\ar087\\anaconda3\\lib\\site-packages (from fiona>=1.8.21->geopandas) (1.16.0)\n",
      "Requirement already satisfied: python-dateutil>=2.8.2 in c:\\users\\ar087\\anaconda3\\lib\\site-packages (from pandas>=1.4.0->geopandas) (2.8.2)\n",
      "Requirement already satisfied: pytz>=2020.1 in c:\\users\\ar087\\anaconda3\\lib\\site-packages (from pandas>=1.4.0->geopandas) (2023.3.post1)\n",
      "Requirement already satisfied: tzdata>=2022.1 in c:\\users\\ar087\\anaconda3\\lib\\site-packages (from pandas>=1.4.0->geopandas) (2023.3)\n",
      "Requirement already satisfied: colorama in c:\\users\\ar087\\anaconda3\\lib\\site-packages (from click~=8.0->fiona>=1.8.21->geopandas) (0.4.6)\n"
     ]
    }
   ],
   "source": [
    "!pip install geopandas"
   ]
  },
  {
   "cell_type": "code",
   "execution_count": 9,
   "id": "dbf13596",
   "metadata": {},
   "outputs": [
    {
     "name": "stdout",
     "output_type": "stream",
     "text": [
      "Requirement already satisfied: geoplot in c:\\users\\ar087\\anaconda3\\lib\\site-packages (0.5.1)\n",
      "Requirement already satisfied: matplotlib>=3.1.2 in c:\\users\\ar087\\anaconda3\\lib\\site-packages (from geoplot) (3.7.2)\n",
      "Requirement already satisfied: seaborn in c:\\users\\ar087\\anaconda3\\lib\\site-packages (from geoplot) (0.12.2)\n",
      "Requirement already satisfied: pandas in c:\\users\\ar087\\anaconda3\\lib\\site-packages (from geoplot) (2.0.3)\n",
      "Requirement already satisfied: geopandas>=0.9.0 in c:\\users\\ar087\\anaconda3\\lib\\site-packages (from geoplot) (0.14.4)\n",
      "Requirement already satisfied: cartopy in c:\\users\\ar087\\anaconda3\\lib\\site-packages (from geoplot) (0.23.0)\n",
      "Requirement already satisfied: mapclassify>=2.1 in c:\\users\\ar087\\anaconda3\\lib\\site-packages (from geoplot) (2.6.1)\n",
      "Requirement already satisfied: contextily>=1.0.0 in c:\\users\\ar087\\anaconda3\\lib\\site-packages (from geoplot) (1.6.0)\n",
      "Requirement already satisfied: geopy in c:\\users\\ar087\\anaconda3\\lib\\site-packages (from contextily>=1.0.0->geoplot) (2.4.1)\n",
      "Requirement already satisfied: mercantile in c:\\users\\ar087\\anaconda3\\lib\\site-packages (from contextily>=1.0.0->geoplot) (1.2.1)\n",
      "Requirement already satisfied: pillow in c:\\users\\ar087\\anaconda3\\lib\\site-packages (from contextily>=1.0.0->geoplot) (9.4.0)\n",
      "Requirement already satisfied: rasterio in c:\\users\\ar087\\anaconda3\\lib\\site-packages (from contextily>=1.0.0->geoplot) (1.3.10)\n",
      "Requirement already satisfied: requests in c:\\users\\ar087\\anaconda3\\lib\\site-packages (from contextily>=1.0.0->geoplot) (2.31.0)\n",
      "Requirement already satisfied: joblib in c:\\users\\ar087\\anaconda3\\lib\\site-packages (from contextily>=1.0.0->geoplot) (1.2.0)\n",
      "Requirement already satisfied: xyzservices in c:\\users\\ar087\\anaconda3\\lib\\site-packages (from contextily>=1.0.0->geoplot) (2022.9.0)\n",
      "Requirement already satisfied: fiona>=1.8.21 in c:\\users\\ar087\\anaconda3\\lib\\site-packages (from geopandas>=0.9.0->geoplot) (1.9.6)\n",
      "Requirement already satisfied: numpy>=1.22 in c:\\users\\ar087\\anaconda3\\lib\\site-packages (from geopandas>=0.9.0->geoplot) (1.24.3)\n",
      "Requirement already satisfied: packaging in c:\\users\\ar087\\anaconda3\\lib\\site-packages (from geopandas>=0.9.0->geoplot) (23.1)\n",
      "Requirement already satisfied: pyproj>=3.3.0 in c:\\users\\ar087\\anaconda3\\lib\\site-packages (from geopandas>=0.9.0->geoplot) (3.6.1)\n",
      "Requirement already satisfied: shapely>=1.8.0 in c:\\users\\ar087\\anaconda3\\lib\\site-packages (from geopandas>=0.9.0->geoplot) (2.0.4)\n",
      "Requirement already satisfied: networkx>=2.7 in c:\\users\\ar087\\anaconda3\\lib\\site-packages (from mapclassify>=2.1->geoplot) (3.1)\n",
      "Requirement already satisfied: scikit-learn>=1.0 in c:\\users\\ar087\\anaconda3\\lib\\site-packages (from mapclassify>=2.1->geoplot) (1.4.0)\n",
      "Requirement already satisfied: scipy>=1.8 in c:\\users\\ar087\\anaconda3\\lib\\site-packages (from mapclassify>=2.1->geoplot) (1.11.1)\n",
      "Requirement already satisfied: contourpy>=1.0.1 in c:\\users\\ar087\\anaconda3\\lib\\site-packages (from matplotlib>=3.1.2->geoplot) (1.0.5)\n",
      "Requirement already satisfied: cycler>=0.10 in c:\\users\\ar087\\anaconda3\\lib\\site-packages (from matplotlib>=3.1.2->geoplot) (0.11.0)\n",
      "Requirement already satisfied: fonttools>=4.22.0 in c:\\users\\ar087\\anaconda3\\lib\\site-packages (from matplotlib>=3.1.2->geoplot) (4.25.0)\n",
      "Requirement already satisfied: kiwisolver>=1.0.1 in c:\\users\\ar087\\anaconda3\\lib\\site-packages (from matplotlib>=3.1.2->geoplot) (1.4.4)\n",
      "Requirement already satisfied: pyparsing<3.1,>=2.3.1 in c:\\users\\ar087\\anaconda3\\lib\\site-packages (from matplotlib>=3.1.2->geoplot) (3.0.9)\n",
      "Requirement already satisfied: python-dateutil>=2.7 in c:\\users\\ar087\\anaconda3\\lib\\site-packages (from matplotlib>=3.1.2->geoplot) (2.8.2)\n",
      "Requirement already satisfied: pytz>=2020.1 in c:\\users\\ar087\\anaconda3\\lib\\site-packages (from pandas->geoplot) (2023.3.post1)\n",
      "Requirement already satisfied: tzdata>=2022.1 in c:\\users\\ar087\\anaconda3\\lib\\site-packages (from pandas->geoplot) (2023.3)\n",
      "Requirement already satisfied: pyshp>=2.3 in c:\\users\\ar087\\anaconda3\\lib\\site-packages (from cartopy->geoplot) (2.3.1)\n",
      "Requirement already satisfied: attrs>=19.2.0 in c:\\users\\ar087\\anaconda3\\lib\\site-packages (from fiona>=1.8.21->geopandas>=0.9.0->geoplot) (22.1.0)\n",
      "Requirement already satisfied: certifi in c:\\users\\ar087\\anaconda3\\lib\\site-packages (from fiona>=1.8.21->geopandas>=0.9.0->geoplot) (2023.7.22)\n",
      "Requirement already satisfied: click~=8.0 in c:\\users\\ar087\\anaconda3\\lib\\site-packages (from fiona>=1.8.21->geopandas>=0.9.0->geoplot) (8.0.4)\n",
      "Requirement already satisfied: click-plugins>=1.0 in c:\\users\\ar087\\anaconda3\\lib\\site-packages (from fiona>=1.8.21->geopandas>=0.9.0->geoplot) (1.1.1)\n",
      "Requirement already satisfied: cligj>=0.5 in c:\\users\\ar087\\anaconda3\\lib\\site-packages (from fiona>=1.8.21->geopandas>=0.9.0->geoplot) (0.7.2)\n",
      "Requirement already satisfied: six in c:\\users\\ar087\\anaconda3\\lib\\site-packages (from fiona>=1.8.21->geopandas>=0.9.0->geoplot) (1.16.0)\n",
      "Requirement already satisfied: threadpoolctl>=2.0.0 in c:\\users\\ar087\\anaconda3\\lib\\site-packages (from scikit-learn>=1.0->mapclassify>=2.1->geoplot) (2.2.0)\n",
      "Requirement already satisfied: geographiclib<3,>=1.52 in c:\\users\\ar087\\anaconda3\\lib\\site-packages (from geopy->contextily>=1.0.0->geoplot) (2.0)\n",
      "Requirement already satisfied: affine in c:\\users\\ar087\\anaconda3\\lib\\site-packages (from rasterio->contextily>=1.0.0->geoplot) (2.4.0)\n",
      "Requirement already satisfied: snuggs>=1.4.1 in c:\\users\\ar087\\anaconda3\\lib\\site-packages (from rasterio->contextily>=1.0.0->geoplot) (1.4.7)\n",
      "Requirement already satisfied: setuptools in c:\\users\\ar087\\anaconda3\\lib\\site-packages (from rasterio->contextily>=1.0.0->geoplot) (68.0.0)\n",
      "Requirement already satisfied: charset-normalizer<4,>=2 in c:\\users\\ar087\\anaconda3\\lib\\site-packages (from requests->contextily>=1.0.0->geoplot) (2.0.4)\n",
      "Requirement already satisfied: idna<4,>=2.5 in c:\\users\\ar087\\anaconda3\\lib\\site-packages (from requests->contextily>=1.0.0->geoplot) (3.4)\n",
      "Requirement already satisfied: urllib3<3,>=1.21.1 in c:\\users\\ar087\\anaconda3\\lib\\site-packages (from requests->contextily>=1.0.0->geoplot) (1.26.16)\n",
      "Requirement already satisfied: colorama in c:\\users\\ar087\\anaconda3\\lib\\site-packages (from click~=8.0->fiona>=1.8.21->geopandas>=0.9.0->geoplot) (0.4.6)\n"
     ]
    }
   ],
   "source": [
    "!pip install geoplot\n"
   ]
  },
  {
   "cell_type": "code",
   "execution_count": 10,
   "id": "420080a3",
   "metadata": {},
   "outputs": [],
   "source": [
    "# If using a Jupyter notebook, install geopandas\n",
    "# !pip install geopandas\n",
    "\n",
    "from matplotlib.ticker import FuncFormatter\n",
    "import matplotlib.ticker as ticker\n",
    "import matplotlib.patches as mpatches\n",
    "import matplotlib.patheffects as PathEffects\n",
    "%matplotlib inline\n",
    "\n",
    "import calendar\n",
    "import plotly as pt\n",
    "from plotly import graph_objs as go\n",
    "import plotly.express as px\n",
    "import plotly.figure_factory as ff\n",
    "from pylab import *\n",
    "\n",
    "import plotly.graph_objects as go\n",
    "from nltk.corpus import stopwords\n",
    "\n",
    "# Ensure geopandas is installed\n",
    "import geopandas as gpd\n",
    "import geoplot\n",
    "from geopy.geocoders import Nominatim\n",
    "\n",
    "import warnings\n",
    "warnings.filterwarnings('ignore')\n",
    "\n"
   ]
  },
  {
   "cell_type": "code",
   "execution_count": null,
   "id": "6d46fb0e",
   "metadata": {},
   "outputs": [],
   "source": [
    "\n"
   ]
  }
 ],
 "metadata": {
  "kernelspec": {
   "display_name": "Python 3 (ipykernel)",
   "language": "python",
   "name": "python3"
  },
  "language_info": {
   "codemirror_mode": {
    "name": "ipython",
    "version": 3
   },
   "file_extension": ".py",
   "mimetype": "text/x-python",
   "name": "python",
   "nbconvert_exporter": "python",
   "pygments_lexer": "ipython3",
   "version": "3.11.5"
  }
 },
 "nbformat": 4,
 "nbformat_minor": 5
}
